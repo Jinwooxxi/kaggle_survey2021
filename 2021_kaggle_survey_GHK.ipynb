{
  "nbformat": 4,
  "nbformat_minor": 0,
  "metadata": {
    "colab": {
      "name": "2021_kaggle_survey_GHK.ipynb",
      "private_outputs": true,
      "provenance": [],
      "authorship_tag": "ABX9TyPzV7XFPjQNkg21xNr/8Omy",
      "include_colab_link": true
    },
    "kernelspec": {
      "name": "python3",
      "display_name": "Python 3"
    },
    "language_info": {
      "name": "python"
    }
  },
  "cells": [
    {
      "cell_type": "markdown",
      "metadata": {
        "id": "view-in-github",
        "colab_type": "text"
      },
      "source": [
        "<a href=\"https://colab.research.google.com/github/Sep-eg/kaggle_survey2021/blob/main/2021_kaggle_survey_GHK.ipynb\" target=\"_parent\"><img src=\"https://colab.research.google.com/assets/colab-badge.svg\" alt=\"Open In Colab\"/></a>"
      ]
    },
    {
      "cell_type": "markdown",
      "metadata": {
        "id": "UyguXcXq3p4B"
      },
      "source": [
        "## 데이터 불러오기"
      ]
    },
    {
      "cell_type": "code",
      "metadata": {
        "id": "LszKB0dOKOrP"
      },
      "source": [
        "!mkdir ~/.kaggle\n",
        "!cp kaggle.json ~/.kaggle\n",
        "!kaggle competitions download -c kaggle-survey-2021"
      ],
      "execution_count": null,
      "outputs": []
    },
    {
      "cell_type": "code",
      "metadata": {
        "id": "oNPM1HsJKG0n"
      },
      "source": [
        "import pandas as pd"
      ],
      "execution_count": null,
      "outputs": []
    },
    {
      "cell_type": "code",
      "metadata": {
        "id": "Shl9-18fKhkF"
      },
      "source": [
        "response = pd.read_csv(\"/content/kaggle_survey_2021_responses.csv.zip\")"
      ],
      "execution_count": null,
      "outputs": []
    },
    {
      "cell_type": "code",
      "metadata": {
        "id": "NknsMQT7KL_-"
      },
      "source": [
        "response.head()"
      ],
      "execution_count": null,
      "outputs": []
    },
    {
      "cell_type": "code",
      "metadata": {
        "id": "_6xRw5nIIrLv"
      },
      "source": [
        "response = response.loc[:][1:]\n",
        "response.reset_index(drop=True, inplace=True)"
      ],
      "execution_count": null,
      "outputs": []
    },
    {
      "cell_type": "code",
      "metadata": {
        "id": "XPSemlpeI0WF"
      },
      "source": [
        "response.head()"
      ],
      "execution_count": null,
      "outputs": []
    },
    {
      "cell_type": "markdown",
      "metadata": {
        "id": "4P0YEqTa3vMp"
      },
      "source": [
        "## 질문합치기\n",
        "모두를 대상으로 질문한 총 42개의 메인 문항과\n",
        "\n",
        "비전문가 계열에게 질문한 8개의 보충 문항을 분류한뒤 각각을 질문 카테고리별로 합칩니다."
      ]
    },
    {
      "cell_type": "code",
      "metadata": {
        "id": "-k3ggqNKJx-3"
      },
      "source": [
        "questions = response.columns"
      ],
      "execution_count": null,
      "outputs": []
    },
    {
      "cell_type": "code",
      "metadata": {
        "id": "5Z8HTyohRaNU"
      },
      "source": [
        "supple_survey_columns = []\n",
        "for quest in questions:\n",
        "    if '_' in quest:\n",
        "        if quest.split('_')[1] == 'B':\n",
        "            supple_survey_columns.append(quest)\n",
        "    else:\n",
        "        pass"
      ],
      "execution_count": null,
      "outputs": []
    },
    {
      "cell_type": "code",
      "metadata": {
        "id": "h7aTL7Q_RxaM"
      },
      "source": [
        "main_survey_columns = questions.drop(supple_survey_columns)"
      ],
      "execution_count": null,
      "outputs": []
    },
    {
      "cell_type": "code",
      "metadata": {
        "id": "yj8U7XXoSvKT"
      },
      "source": [
        "supple_dict = {col.split('_')[0] : [] for col in supple_survey_columns}\n",
        "for col in supple_survey_columns:\n",
        "    supple_dict[col.split('_')[0]].append(col)\n",
        "\n",
        "main_dict = {col.split('_')[0]: [] for col in main_survey_columns}\n",
        "for col in main_survey_columns:\n",
        "    main_dict[col.split('_')[0]].append(col)"
      ],
      "execution_count": null,
      "outputs": []
    },
    {
      "cell_type": "code",
      "metadata": {
        "id": "Az89s2wrVxK2"
      },
      "source": [
        "supple_response = response[supple_survey_columns].fillna('Not responded')\n",
        "main_response = response[main_survey_columns].fillna('Not responded')"
      ],
      "execution_count": null,
      "outputs": []
    },
    {
      "cell_type": "code",
      "metadata": {
        "id": "RBHG6tmxsmYq"
      },
      "source": [
        "def split_dropnone(col): \n",
        "    tmp_list = [data for data in col.split(',') if data not in 'Not responded']\n",
        "    if len(tmp_list) == 0:\n",
        "        return 'Not responded'\n",
        "    else:\n",
        "        return tmp_list"
      ],
      "execution_count": null,
      "outputs": []
    },
    {
      "cell_type": "code",
      "metadata": {
        "id": "CGF6R602V2qZ"
      },
      "source": [
        "for key, value in supple_dict.items():\n",
        "    tmp_series = pd.Series(supple_response[value[0]])\n",
        "    for col in value[1:]:\n",
        "        tmp_series = tmp_series + ',' + supple_response[col]\n",
        "    supple_response[key] = tmp_series\n",
        "    supple_response.drop(value, axis=1, inplace=True)\n",
        "    supple_response[key] = supple_response[key].map(split_dropnone)"
      ],
      "execution_count": null,
      "outputs": []
    },
    {
      "cell_type": "code",
      "metadata": {
        "id": "D8KANKEjsNrr"
      },
      "source": [
        "for key, value in main_dict.items():\n",
        "    tmp_series = pd.Series(main_response[value[0]])\n",
        "    flag = 0\n",
        "    if len(value) > 1:\n",
        "        flag += 1\n",
        "        for col in value[1:]:\n",
        "            tmp_series = tmp_series + ',' + main_response[col]\n",
        "        main_response[key] = tmp_series\n",
        "    if flag == 1:\n",
        "        main_response.drop(value, axis=1, inplace=True)\n",
        "        main_response[key] = main_response[key].map(split_dropnone)"
      ],
      "execution_count": null,
      "outputs": []
    },
    {
      "cell_type": "code",
      "metadata": {
        "id": "8bR9QwqG5Hh0"
      },
      "source": [
        "main_response"
      ],
      "execution_count": null,
      "outputs": []
    }
  ]
}